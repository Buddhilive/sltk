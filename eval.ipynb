{
 "cells": [
  {
   "cell_type": "code",
   "execution_count": 57,
   "metadata": {},
   "outputs": [],
   "source": [
    "import nltk\n",
    "import spacy\n",
    "import time\n",
    "import os\n",
    "import io\n",
    "import numpy as np\n",
    "from sltk import sltk\n",
    "import transformers\n",
    "from transformers import BertTokenizer\n",
    "from tokenizers import BertWordPieceTokenizer\n",
    "import matplotlib.pyplot as plt"
   ]
  },
  {
   "cell_type": "code",
   "execution_count": 58,
   "metadata": {},
   "outputs": [],
   "source": [
    "# nltk.download('punkt')"
   ]
  },
  {
   "cell_type": "code",
   "execution_count": 59,
   "metadata": {},
   "outputs": [],
   "source": [
    "# !python -m spacy download xx_ent_wiki_sm"
   ]
  },
  {
   "cell_type": "code",
   "execution_count": 60,
   "metadata": {},
   "outputs": [],
   "source": [
    "# load the corpus\n",
    "with open(\"data/sin.csv\", \"r\") as f:\n",
    "    corpus = f.read()"
   ]
  },
  {
   "cell_type": "code",
   "execution_count": 71,
   "metadata": {},
   "outputs": [
    {
     "name": "stdout",
     "output_type": "stream",
     "text": [
      "1479938 144198\n"
     ]
    }
   ],
   "source": [
    "def count_chars(txt):\n",
    "    result = 0\n",
    "    for char in txt:\n",
    "        if(char != \"\" or char != \" \"):\n",
    "            result = result + 1\n",
    "    return result\n",
    "\n",
    "num_char = count_chars(corpus)\n",
    "num_words = len(corpus.split(' '))\n",
    "\n",
    "print(f'{num_char} {num_words}')"
   ]
  },
  {
   "cell_type": "code",
   "execution_count": 72,
   "metadata": {},
   "outputs": [],
   "source": [
    "# NLTK tokenization\n",
    "def nltk_tokenizer():\n",
    "    start_time = time.time()\n",
    "    nltk_tokens = nltk.word_tokenize(corpus)\n",
    "    nltk_time = time.time() - start_time\n",
    "    nltk_compression = len(nltk_tokens) / (num_char + num_words)\n",
    "    print(\"NLTK: Time = {:.2f}s, Compression = {:.2f}\".format(nltk_time, nltk_compression))\n",
    "    return nltk_time, nltk_compression, len(nltk_tokens)"
   ]
  },
  {
   "cell_type": "code",
   "execution_count": 73,
   "metadata": {},
   "outputs": [
    {
     "name": "stdout",
     "output_type": "stream",
     "text": [
      "NLTK: Time = 1.88s, Compression = 0.17\n",
      "1.8802223205566406 0.17193510888250738 279246\n"
     ]
    }
   ],
   "source": [
    "nltk_time, nltk_compression, nltk_tokens = nltk_tokenizer()\n",
    "print(nltk_time, nltk_compression, nltk_tokens)"
   ]
  },
  {
   "cell_type": "code",
   "execution_count": 74,
   "metadata": {},
   "outputs": [],
   "source": [
    "# spaCy tokenization\n",
    "def spacy_tokenizer():\n",
    "    spacy_nlp = spacy.load(\"xx_ent_wiki_sm\")\n",
    "    start_time = time.time()\n",
    "    spacy_nlp.max_length = 1_500_000\n",
    "    spacy_doc = spacy_nlp(corpus)\n",
    "    spacy_tokens = [token.text for token in spacy_doc]\n",
    "    spacy_time = time.time() - start_time\n",
    "    spacy_compression = len(spacy_tokens) / (num_char + num_words)\n",
    "    print(\"spaCy: Time = {:.2f}s, Compression = {:.2f}\".format(spacy_time, spacy_compression))\n",
    "    return spacy_time, spacy_compression, len(spacy_tokens)"
   ]
  },
  {
   "cell_type": "code",
   "execution_count": 75,
   "metadata": {},
   "outputs": [
    {
     "name": "stdout",
     "output_type": "stream",
     "text": [
      "spaCy: Time = 27.09s, Compression = 0.19\n",
      "27.09318780899048 0.186743597826783\n"
     ]
    }
   ],
   "source": [
    "spacy_time, spacy_compression, spacy_tokens = spacy_tokenizer()\n",
    "print(spacy_time, spacy_compression)"
   ]
  },
  {
   "cell_type": "code",
   "execution_count": 76,
   "metadata": {},
   "outputs": [],
   "source": [
    "# BERT tokenization\n",
    "def bertTokenizer():\n",
    "    start_time = time.time()\n",
    "    # initialize\n",
    "    tokenizer = BertWordPieceTokenizer(\n",
    "        clean_text=True,\n",
    "        handle_chinese_chars=False,\n",
    "        strip_accents=False,\n",
    "        lowercase=False\n",
    "    )\n",
    "    # and train\n",
    "    tokenizer.train(files='data/sin.csv', vocab_size=30_000, min_frequency=2,\n",
    "                    limit_alphabet=1000, wordpieces_prefix='##',\n",
    "                    special_tokens=[\n",
    "                        '[PAD', '[UNK]', '[CLS]', '[SEP]', '[MASK]'])\n",
    "\n",
    "    # os.mkdir('./bert')\n",
    "\n",
    "    tokenizer.save_model('./bert', 'bert')\n",
    "\n",
    "    # tokenize\n",
    "    tokenizer = BertTokenizer.from_pretrained(\"./bert\")\n",
    "    bert_tokens = tokenizer.tokenize(corpus)\n",
    "    bert_time = time.time() - start_time\n",
    "    bert_compression = len(bert_tokens) / (num_char + num_words)\n",
    "    print(\"BERT: Time = {:.2f}s, Compression = {:.2f}\".format(bert_time, bert_compression))\n",
    "    # print(bert_tokens)\n",
    "    return bert_time, bert_compression, len(bert_tokens)"
   ]
  },
  {
   "cell_type": "code",
   "execution_count": 77,
   "metadata": {},
   "outputs": [
    {
     "name": "stdout",
     "output_type": "stream",
     "text": [
      "BERT: Time = 6.18s, Compression = 0.18\n",
      "6.1751484870910645 0.17682509346507927\n"
     ]
    }
   ],
   "source": [
    "bert_time, bert_compression, bert_tokens = bertTokenizer()\n",
    "print(bert_time, bert_compression)"
   ]
  },
  {
   "cell_type": "code",
   "execution_count": 78,
   "metadata": {},
   "outputs": [],
   "source": [
    "# sltk tokenizer\n",
    "def sltTokenizer():\n",
    "    start_time = time.time()\n",
    "\n",
    "    sentences = sltk.splitSentences(corpus)\n",
    "    sltk_tokens = sltk.buildVocab(sentences)\n",
    "    f = open(\"models/vocab.txt\", \"w\")\n",
    "    f.write('\\n'.join(sltk_tokens))\n",
    "    f.close()\n",
    "\n",
    "    #tokenize\n",
    "    # sltk_tokens = sltk.tokenize('models/vocab.txt', sentences)\n",
    "    sltk_time = time.time() - start_time\n",
    "    sltk_compression = len(sltk_tokens) / (num_char + num_words)\n",
    "    print(\"SLTK: Time = {:.2f}s, Compression = {:.2f}\".format(sltk_time, sltk_compression))\n",
    "    return sltk_time, sltk_compression, len(sltk_tokens)"
   ]
  },
  {
   "cell_type": "code",
   "execution_count": 79,
   "metadata": {},
   "outputs": [
    {
     "name": "stderr",
     "output_type": "stream",
     "text": [
      "Masking Abbreviations: 100%|##########| 34/34 [00:04<00:00,  8.09it/s]\n",
      "Dictionary Lookup: 100%|##########| 7/7 [00:00<00:00, 536.63it/s]\n",
      "Masking Emails: 0it [00:00, ?it/s]\n",
      "Masking URLs: 100%|##########| 55/55 [00:00<00:00, 476.68it/s]\n",
      "Masking decimals: 100%|##########| 48/48 [00:00<00:00, 1543.29it/s]\n",
      "Cleaning Tokens: 100%|##########| 494634/494634 [00:00<00:00, 694365.03it/s] \n",
      "Calculating Frequency: 100%|##########| 494634/494634 [00:00<00:00, 2125014.59it/s]\n",
      "Generating Vocab: 100%|##########| 7060/7060 [00:00<00:00, 19438.20it/s]"
     ]
    },
    {
     "name": "stdout",
     "output_type": "stream",
     "text": [
      "Found 7049 unique tokens out of 7060 tokens.\n",
      "Total 7209 Tokens\n",
      "SLTK: Time = 6.33s, Compression = 0.00\n",
      "6.334977149963379 0.004438667697779004\n"
     ]
    },
    {
     "name": "stderr",
     "output_type": "stream",
     "text": [
      "\n"
     ]
    }
   ],
   "source": [
    "sltk_time, sltk_compression, sltk_tokens = sltTokenizer()\n",
    "print(sltk_time, sltk_compression)"
   ]
  },
  {
   "cell_type": "code",
   "execution_count": 81,
   "metadata": {},
   "outputs": [
    {
     "name": "stderr",
     "output_type": "stream",
     "text": [
      "No artists with labels found to put in legend.  Note that artists whose label start with an underscore are ignored when legend() is called with no argument.\n"
     ]
    },
    {
     "data": {
      "image/png": "[encoded data removed]",
      "text/plain": [
       "<Figure size 432x288 with 2 Axes>"
      ]
     },
     "metadata": {},
     "output_type": "display_data"
    }
   ],
   "source": [
    "# Plot the results\n",
    "speed = [nltk_time, spacy_time, bert_time, sltk_time]\n",
    "compression = [nltk_compression, spacy_compression, bert_compression, sltk_compression]\n",
    "tokenizers = [\"NLTK\", \"spaCy\", \"BERT\", \"SLTK\"]\n",
    "\n",
    "fig, ax1 = plt.subplots()\n",
    "\n",
    "color = \"y\"\n",
    "ax1.set_xlabel(\"Tokenizer\")\n",
    "ax1.set_ylabel(\"Speed (s)\", color=color)\n",
    "ax1.bar(tokenizers, speed, color=color)\n",
    "ax1.tick_params(axis=\"y\", labelcolor=color)\n",
    "\n",
    "ax2 = ax1.twinx()  # instantiate a second axes that shares the same x-axis\n",
    "\n",
    "color = \"tab:blue\"\n",
    "ax2.set_ylabel(\"Compression Factor\", color=color)  # we already handled the x-label with ax1\n",
    "ax2.plot(tokenizers, compression, color=color)\n",
    "ax2.legend(loc=\"upper left\")\n",
    "ax2.tick_params(axis=\"y\", labelcolor=color)\n",
    "\n",
    "fig.tight_layout()  # otherwise the right y-label is slightly clipped\n",
    "plt.show()"
   ]
  },
  {
   "cell_type": "code",
   "execution_count": 82,
   "metadata": {},
   "outputs": [
    {
     "data": {
      "image/png": "[encoded data removed]",
      "text/plain": [
       "<Figure size 432x288 with 1 Axes>"
      ]
     },
     "metadata": {
      "needs_background": "light"
     },
     "output_type": "display_data"
    }
   ],
   "source": [
    "objects = (\"NLTK\", \"spaCy\", \"BERT\", \"SLTK\")\n",
    "y_pos = np.arange(len(objects))\n",
    "performance = [nltk_tokens, spacy_tokens, bert_tokens, sltk_tokens]\n",
    "\n",
    "plt.bar(y_pos, performance, align='center', alpha=0.5)\n",
    "plt.xticks(y_pos, objects)\n",
    "plt.ylabel('Tokens')\n",
    "plt.title('Number of Tokens Generated')\n",
    "\n",
    "plt.show()"
   ]
  }
 ],
 "metadata": {
  "kernelspec": {
   "display_name": "base",
   "language": "python",
   "name": "python3"
  },
  "language_info": {
   "codemirror_mode": {
    "name": "ipython",
    "version": 3
   },
   "file_extension": ".py",
   "mimetype": "text/x-python",
   "name": "python",
   "nbconvert_exporter": "python",
   "pygments_lexer": "ipython3",
   "version": "3.9.12"
  },
  "orig_nbformat": 4,
  "vscode": {
   "interpreter": {
    "hash": "ad2bdc8ecc057115af97d19610ffacc2b4e99fae6737bb82f5d7fb13d2f2c186"
   }
  }
 },
 "nbformat": 4,
 "nbformat_minor": 2
}
