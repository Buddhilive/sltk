{
 "cells": [
  {
   "cell_type": "code",
   "execution_count": 1,
   "metadata": {},
   "outputs": [],
   "source": [
    "import io\n",
    "import os\n",
    "from sltk import sltk"
   ]
  },
  {
   "cell_type": "code",
   "execution_count": 2,
   "metadata": {},
   "outputs": [],
   "source": [
    "corpus = ''\n",
    "with io.open('data/sin.csv','r',encoding='utf8') as f:\n",
    "    corpus = f.read()"
   ]
  },
  {
   "cell_type": "code",
   "execution_count": 3,
   "metadata": {},
   "outputs": [
    {
     "name": "stderr",
     "output_type": "stream",
     "text": [
      "Masking Abbreviations: 100%|##########| 34/34 [00:04<00:00,  7.60it/s]\n",
      "Dictionary Lookup: 100%|##########| 7/7 [00:00<00:00, 581.56it/s]\n",
      "Masking Emails: 0it [00:00, ?it/s]\n",
      "Masking URLs: 100%|##########| 55/55 [00:00<00:00, 532.23it/s]\n",
      "Masking decimals: 100%|##########| 48/48 [00:00<00:00, 1594.93it/s]\n",
      "Cleaning Tokens: 100%|##########| 494634/494634 [00:00<00:00, 728213.01it/s] \n",
      "Calculating Frequency: 100%|##########| 494634/494634 [00:00<00:00, 2230767.89it/s]\n",
      "Generating Vocab: 100%|##########| 7060/7060 [00:00<00:00, 17814.32it/s]"
     ]
    },
    {
     "name": "stdout",
     "output_type": "stream",
     "text": [
      "Found 7049 unique tokens out of 7060 tokens.\n",
      "Total 7209 Tokens\n"
     ]
    },
    {
     "name": "stderr",
     "output_type": "stream",
     "text": [
      "\n"
     ]
    }
   ],
   "source": [
    "# sample = 'වයි. වයි. ශ්‍රී ජයවර්ධනපුර කෝට්ටේ! ආචාර්ය සී.ඩබ්ලිව්.ඩබ්ලිව්. කන්නන්ගර ශ්‍රී ලංකා. https://www.pythontutorial.net/?link'\n",
    "sentences = sltk.splitSentences(corpus)\n",
    "tokens = sltk.buildVocab(sentences)\n",
    "# print(tokens)"
   ]
  },
  {
   "cell_type": "code",
   "execution_count": 4,
   "metadata": {},
   "outputs": [],
   "source": [
    "sltk.save(tokens, 'models/vocab.txt')"
   ]
  },
  {
   "cell_type": "code",
   "execution_count": 5,
   "metadata": {},
   "outputs": [],
   "source": [
    "tokenizer = sltk.Tokenizer('models/vocab.txt')"
   ]
  },
  {
   "cell_type": "code",
   "execution_count": 6,
   "metadata": {},
   "outputs": [
    {
     "name": "stderr",
     "output_type": "stream",
     "text": [
      "Tokenizing: 100%|##########| 3322/3322 [00:48<00:00, 68.00it/s] \n"
     ]
    }
   ],
   "source": [
    "vectors = tokenizer.tokenize(sentences)\n",
    "# print(len(max(vectors, key=len)))"
   ]
  },
  {
   "cell_type": "code",
   "execution_count": 7,
   "metadata": {},
   "outputs": [
    {
     "ename": "NameError",
     "evalue": "name '_Tokenizer__isPunctuation' is not defined",
     "output_type": "error",
     "traceback": [
      "\u001b[1;31m---------------------------------------------------------------------------\u001b[0m",
      "\u001b[1;31mNameError\u001b[0m                                 Traceback (most recent call last)",
      "\u001b[1;32md:\\BerkeliumLabs\\project\\sltk\\test.ipynb Cell 7\u001b[0m in \u001b[0;36m<cell line: 1>\u001b[1;34m()\u001b[0m\n\u001b[1;32m----> <a href='vscode-notebook-cell:/d%3A/BerkeliumLabs/project/sltk/test.ipynb#W5sZmlsZQ%3D%3D?line=0'>1</a>\u001b[0m tokenizer\u001b[39m.\u001b[39;49mdecode(vectors[\u001b[39m2\u001b[39;49m])\n",
      "File \u001b[1;32md:\\BerkeliumLabs\\project\\sltk\\sltk\\sltk.py:223\u001b[0m, in \u001b[0;36mTokenizer.decode\u001b[1;34m(self, vectors)\u001b[0m\n\u001b[0;32m    221\u001b[0m \u001b[39mif\u001b[39;00m(isFirst):\n\u001b[0;32m    222\u001b[0m     isFirst \u001b[39m=\u001b[39m \u001b[39mFalse\u001b[39;00m\n\u001b[1;32m--> 223\u001b[0m \u001b[39melif\u001b[39;00m(\u001b[39mnot\u001b[39;00m __isPunctuation(tokens[vector])):\n\u001b[0;32m    224\u001b[0m     space \u001b[39m=\u001b[39m \u001b[39m'\u001b[39m\u001b[39m \u001b[39m\u001b[39m'\u001b[39m\n\u001b[0;32m    225\u001b[0m \u001b[39melse\u001b[39;00m:\n",
      "\u001b[1;31mNameError\u001b[0m: name '_Tokenizer__isPunctuation' is not defined"
     ]
    }
   ],
   "source": [
    "tokenizer.decode(vectors[2])"
   ]
  }
 ],
 "metadata": {
  "kernelspec": {
   "display_name": "base",
   "language": "python",
   "name": "python3"
  },
  "language_info": {
   "codemirror_mode": {
    "name": "ipython",
    "version": 3
   },
   "file_extension": ".py",
   "mimetype": "text/x-python",
   "name": "python",
   "nbconvert_exporter": "python",
   "pygments_lexer": "ipython3",
   "version": "3.9.12"
  },
  "orig_nbformat": 4,
  "vscode": {
   "interpreter": {
    "hash": "ad2bdc8ecc057115af97d19610ffacc2b4e99fae6737bb82f5d7fb13d2f2c186"
   }
  }
 },
 "nbformat": 4,
 "nbformat_minor": 2
}
