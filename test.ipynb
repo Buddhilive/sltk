{
 "cells": [
  {
   "cell_type": "code",
   "execution_count": 1,
   "metadata": {},
   "outputs": [],
   "source": [
    "from sltk import sltk"
   ]
  },
  {
   "cell_type": "code",
   "execution_count": 2,
   "metadata": {},
   "outputs": [],
   "source": [
    "data = open(\"data/sample.txt\", \"r\")\n",
    "# print(data.read())\n",
    "corpus = data.read()\n",
    "data.close()"
   ]
  },
  {
   "cell_type": "code",
   "execution_count": 3,
   "metadata": {},
   "outputs": [
    {
     "ename": "TypeError",
     "evalue": "replace() argument 1 must be str, not tuple",
     "output_type": "error",
     "traceback": [
      "\u001b[1;31m---------------------------------------------------------------------------\u001b[0m",
      "\u001b[1;31mTypeError\u001b[0m                                 Traceback (most recent call last)",
      "\u001b[1;32md:\\BerkeliumLabs\\project\\sltk\\test.ipynb Cell 3\u001b[0m in \u001b[0;36m<cell line: 3>\u001b[1;34m()\u001b[0m\n\u001b[0;32m      <a href='vscode-notebook-cell:/d%3A/BerkeliumLabs/project/sltk/test.ipynb#W2sZmlsZQ%3D%3D?line=0'>1</a>\u001b[0m \u001b[39m# tokens = sltk.whiteSpace(corpus)\u001b[39;00m\n\u001b[0;32m      <a href='vscode-notebook-cell:/d%3A/BerkeliumLabs/project/sltk/test.ipynb#W2sZmlsZQ%3D%3D?line=1'>2</a>\u001b[0m \u001b[39m# len(tokens)\u001b[39;00m\n\u001b[1;32m----> <a href='vscode-notebook-cell:/d%3A/BerkeliumLabs/project/sltk/test.ipynb#W2sZmlsZQ%3D%3D?line=2'>3</a>\u001b[0m sentences \u001b[39m=\u001b[39m sltk\u001b[39m.\u001b[39;49msplitSentences(\u001b[39m'\u001b[39;49m\u001b[39mආචාර්ය සී.ඩබ්ලිව්.ඩබ්ලිව්. කන්නන්ගර ශ්‍රී ලංකා. https://www.pythontutorial.net buddhi@example.com\u001b[39;49m\u001b[39m'\u001b[39;49m)\n\u001b[0;32m      <a href='vscode-notebook-cell:/d%3A/BerkeliumLabs/project/sltk/test.ipynb#W2sZmlsZQ%3D%3D?line=3'>4</a>\u001b[0m \u001b[39mprint\u001b[39m(sentences)\n",
      "File \u001b[1;32md:\\BerkeliumLabs\\project\\sltk\\sltk\\sltk.py:74\u001b[0m, in \u001b[0;36msplitSentences\u001b[1;34m(text)\u001b[0m\n\u001b[0;32m     72\u001b[0m preprocessText \u001b[39m=\u001b[39m __maskAbbreviations(text)\n\u001b[0;32m     73\u001b[0m preprocessText \u001b[39m=\u001b[39m __fromDictionary(preprocessText)\n\u001b[1;32m---> 74\u001b[0m preprocessText \u001b[39m=\u001b[39m __maskSpecial(preprocessText)\n\u001b[0;32m     75\u001b[0m sentences \u001b[39m=\u001b[39m re\u001b[39m.\u001b[39msplit(\u001b[39mr\u001b[39m\u001b[39m\"\u001b[39m\u001b[39m\\\u001b[39m\u001b[39m(?[^\u001b[39m\u001b[39m\\\u001b[39m\u001b[39m.\u001b[39m\u001b[39m\\\u001b[39m\u001b[39m?\u001b[39m\u001b[39m\\\u001b[39m\u001b[39m!]+[\u001b[39m\u001b[39m\\\u001b[39m\u001b[39m.!\u001b[39m\u001b[39m\\\u001b[39m\u001b[39m?]\u001b[39m\u001b[39m\\\u001b[39m\u001b[39m)?\u001b[39m\u001b[39m\"\u001b[39m, preprocessText)\n\u001b[0;32m     76\u001b[0m \u001b[39mreturn\u001b[39;00m sentences\n",
      "File \u001b[1;32md:\\BerkeliumLabs\\project\\sltk\\sltk\\sltk.py:61\u001b[0m, in \u001b[0;36m__maskSpecial\u001b[1;34m(text)\u001b[0m\n\u001b[0;32m     59\u001b[0m \u001b[39mfor\u001b[39;00m i \u001b[39min\u001b[39;00m urls:\n\u001b[0;32m     60\u001b[0m     replacer \u001b[39m=\u001b[39m \u001b[39mstr\u001b[39m(i)\u001b[39m.\u001b[39mreplace(\u001b[39m'\u001b[39m\u001b[39m.\u001b[39m\u001b[39m'\u001b[39m, \u001b[39m'\u001b[39m\u001b[39m<dot/>\u001b[39m\u001b[39m'\u001b[39m)\n\u001b[1;32m---> 61\u001b[0m     text \u001b[39m=\u001b[39m text\u001b[39m.\u001b[39;49mreplace(i, replacer)\n\u001b[0;32m     63\u001b[0m \u001b[39mfor\u001b[39;00m i \u001b[39min\u001b[39;00m decimals:\n\u001b[0;32m     64\u001b[0m     replacer \u001b[39m=\u001b[39m \u001b[39mstr\u001b[39m(i)\u001b[39m.\u001b[39mreplace(\u001b[39m'\u001b[39m\u001b[39m.\u001b[39m\u001b[39m'\u001b[39m, \u001b[39m'\u001b[39m\u001b[39m<dot/>\u001b[39m\u001b[39m'\u001b[39m)\n",
      "\u001b[1;31mTypeError\u001b[0m: replace() argument 1 must be str, not tuple"
     ]
    }
   ],
   "source": [
    "# tokens = sltk.whiteSpace(corpus)\n",
    "# len(tokens)\n",
    "sentences = sltk.splitSentences('ආචාර්ය සී.ඩබ්ලිව්.ඩබ්ලිව්. කන්නන්ගර ශ්‍රී ලංකා. https://www.pythontutorial.net buddhi@example.com')\n",
    "print(sentences)"
   ]
  }
 ],
 "metadata": {
  "kernelspec": {
   "display_name": "base",
   "language": "python",
   "name": "python3"
  },
  "language_info": {
   "codemirror_mode": {
    "name": "ipython",
    "version": 3
   },
   "file_extension": ".py",
   "mimetype": "text/x-python",
   "name": "python",
   "nbconvert_exporter": "python",
   "pygments_lexer": "ipython3",
   "version": "3.9.12"
  },
  "orig_nbformat": 4,
  "vscode": {
   "interpreter": {
    "hash": "ad2bdc8ecc057115af97d19610ffacc2b4e99fae6737bb82f5d7fb13d2f2c186"
   }
  }
 },
 "nbformat": 4,
 "nbformat_minor": 2
}
