{
 "cells": [
  {
   "cell_type": "code",
   "execution_count": 1,
   "metadata": {},
   "outputs": [],
   "source": [
    "import io\n",
    "from sltk import sltk"
   ]
  },
  {
   "cell_type": "code",
   "execution_count": 2,
   "metadata": {},
   "outputs": [],
   "source": [
    "corpus = ''\n",
    "with io.open('data/sample.txt','r',encoding='utf8') as f:\n",
    "    corpus = f.read()"
   ]
  },
  {
   "cell_type": "code",
   "execution_count": 3,
   "metadata": {},
   "outputs": [
    {
     "name": "stderr",
     "output_type": "stream",
     "text": [
      "Masking Abbreviations: 100%|##########| 34/34 [00:00<00:00, 968.32it/s]\n",
      "Dictionary Lookup: 100%|##########| 7/7 [00:00<?, ?it/s]\n",
      "Masking Emails: 0it [00:00, ?it/s]\n",
      "Masking URLs: 0it [00:00, ?it/s]\n",
      "Masking decimals: 0it [00:00, ?it/s]\n",
      "Cleaning Tokens: 100%|##########| 1060/1060 [00:00<00:00, 264168.88it/s]\n",
      "Generating Vocab: 100%|##########| 1060/1060 [00:00<00:00, 176168.41it/s]"
     ]
    },
    {
     "name": "stdout",
     "output_type": "stream",
     "text": [
      "Found 512 unique tokens out of 1060 tokens.\n",
      "Total 672 Tokens\n"
     ]
    },
    {
     "name": "stderr",
     "output_type": "stream",
     "text": [
      "\n"
     ]
    }
   ],
   "source": [
    "# sample = 'වයි. වයි. ශ්‍රී ජයවර්ධනපුර කෝට්ටේ! ආචාර්ය සී.ඩබ්ලිව්.ඩබ්ලිව්. කන්නන්ගර ශ්‍රී ලංකා. https://www.pythontutorial.net/?link'\n",
    "sentences = sltk.splitSentences(corpus)\n",
    "tokens = sltk.buildVocab(sentences)\n",
    "# print(tokens)"
   ]
  },
  {
   "cell_type": "code",
   "execution_count": 4,
   "metadata": {},
   "outputs": [],
   "source": [
    "f = open(\"models/vocab.txt\", \"w\")\n",
    "f.write('\\n'.join(tokens))\n",
    "f.close()"
   ]
  },
  {
   "cell_type": "code",
   "execution_count": 5,
   "metadata": {},
   "outputs": [
    {
     "name": "stderr",
     "output_type": "stream",
     "text": [
      "Tokenizing: 100%|##########| 53/53 [00:00<00:00, 2780.39it/s]\n"
     ]
    }
   ],
   "source": [
    "vectors = sltk.tokenize('models/vocab.txt', sentences)\n",
    "# print(len(max(vectors, key=len)))"
   ]
  },
  {
   "cell_type": "code",
   "execution_count": 8,
   "metadata": {},
   "outputs": [
    {
     "data": {
      "text/plain": [
       "'විවිධ නම් ගණනාවකින් පුරාණයේ හැඳින්වූ මෙම දූපත\" නම් දහසක් ඇති දූපත\" ලෙස ප්\\u200dරචලිත ද විය.'"
      ]
     },
     "execution_count": 8,
     "metadata": {},
     "output_type": "execute_result"
    }
   ],
   "source": [
    "sltk.decode('models/vocab.txt', vectors[2])"
   ]
  }
 ],
 "metadata": {
  "kernelspec": {
   "display_name": "base",
   "language": "python",
   "name": "python3"
  },
  "language_info": {
   "codemirror_mode": {
    "name": "ipython",
    "version": 3
   },
   "file_extension": ".py",
   "mimetype": "text/x-python",
   "name": "python",
   "nbconvert_exporter": "python",
   "pygments_lexer": "ipython3",
   "version": "3.9.12"
  },
  "orig_nbformat": 4,
  "vscode": {
   "interpreter": {
    "hash": "ad2bdc8ecc057115af97d19610ffacc2b4e99fae6737bb82f5d7fb13d2f2c186"
   }
  }
 },
 "nbformat": 4,
 "nbformat_minor": 2
}
